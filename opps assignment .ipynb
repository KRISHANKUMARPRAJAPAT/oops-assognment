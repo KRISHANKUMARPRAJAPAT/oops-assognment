{
 "cells": [
  {
   "cell_type": "markdown",
   "id": "5281ffb4-4d6c-48ef-9d96-b6a335a74bf2",
   "metadata": {
    "tags": []
   },
   "source": [
    "## Q1. What is Abstraction in OOps? Explain with an example.\n"
   ]
  },
  {
   "cell_type": "markdown",
   "id": "25d9562e-c757-4840-ac15-46c3f375a0d8",
   "metadata": {},
   "source": [
    "Ans:1\n",
    "\n",
    "Abstraction in OOPs is the process of hiding the implementation details of a system and only exposing the essential features and functionalities to the users. It is a fundamental concept in object-oriented programming that helps in creating more modular, flexible, and maintainable code.\n",
    "By using abstraction, we can separate the implementation details of a system from its interface, making it easier to change and maintain the system over time. Additionally, abstraction helps in creating more modular and reusable code, which can be used in different parts of an application or even in different applications altogether."
   ]
  },
  {
   "cell_type": "code",
   "execution_count": 98,
   "id": "645e83b8-9010-48ae-a90f-1c84f91e0725",
   "metadata": {},
   "outputs": [],
   "source": [
    "#Here is an example for abstaction in oops:\n",
    "from abc import ABC , abstractmethod\n",
    "\n",
    "class Shape(ABC):\n",
    "    def area(self):\n",
    "        pass"
   ]
  },
  {
   "cell_type": "code",
   "execution_count": 99,
   "id": "576230d5-9287-49e3-b08c-f63821f7e75b",
   "metadata": {},
   "outputs": [],
   "source": [
    "class Rectangle(Shape):\n",
    "   def __init__(self, length, width):\n",
    "      self.length = length\n",
    "      self.width = width\n",
    "   \n",
    "   def area(self):\n",
    "      return self.length * self.width\n",
    "\n",
    "class Circle(Shape):\n",
    "   def __init__(self, radius):\n",
    "      self.radius = radius\n",
    "   \n",
    "   def area(self):\n",
    "      return 3.14 * (self.radius ** 2)"
   ]
  },
  {
   "cell_type": "code",
   "execution_count": 100,
   "id": "e45536ae-8842-4c4b-93bc-e4f8ea6f0ac5",
   "metadata": {},
   "outputs": [
    {
     "name": "stdout",
     "output_type": "stream",
     "text": [
      "15\n"
     ]
    }
   ],
   "source": [
    "rectangle = Rectangle(5, 3)\n",
    "print(rectangle.area())"
   ]
  },
  {
   "cell_type": "code",
   "execution_count": 101,
   "id": "68c202c0-45f8-4b47-bc23-2821fffa7997",
   "metadata": {},
   "outputs": [
    {
     "name": "stdout",
     "output_type": "stream",
     "text": [
      "12.56\n"
     ]
    }
   ],
   "source": [
    "circle = Circle(2)\n",
    "print(circle.area()) "
   ]
  },
  {
   "cell_type": "markdown",
   "id": "21c8d2a4-4fa4-4946-9d31-c54387eb19f2",
   "metadata": {},
   "source": [
    "## Q2. Differentiate between Abstraction and Encapsulation. Explain with an example."
   ]
  },
  {
   "cell_type": "markdown",
   "id": "2eee0c92-74fe-429e-80f1-657859e8a8e5",
   "metadata": {},
   "source": [
    "#Ans:2\n",
    "\n",
    "Abstraction and encapsulation are two fundamental concepts in object-oriented programming, and while they are closely related, they are different from each other.\n",
    "\n",
    "Abstraction refers to the process of hiding the implementation details of a system and only exposing the essential features and functionalities to the users. It is achieved through the use of abstract classes and interfaces. Abstraction helps in creating more modular, flexible, and maintainable code.\n",
    "\n",
    "Encapsulation, on the other hand, refers to the process of hiding the internal workings of a class and protecting its data from outside interference. It is achieved through the use of access modifiers like public, private, and protected. Encapsulation helps in creating more secure, reliable, and maintainable code."
   ]
  },
  {
   "cell_type": "code",
   "execution_count": 102,
   "id": "cb01c88a-2d8a-4a85-978e-765f29489291",
   "metadata": {},
   "outputs": [],
   "source": [
    "#Here's an example to illustrate the difference between abstraction and encapsulation in Python:\n",
    "#Encapsulation:\n",
    "class bankaccount :\n",
    "    def __init__(self, balance , acc_number):\n",
    "        self.__balance = balance\n",
    "        self.__acc_number = acc_number\n",
    "        \n",
    "    def deposit(self, amount) :\n",
    "        self.__balance = self.__balance + amount\n",
    "        \n",
    "    def withdrow(self, amount) :\n",
    "        self.__balance = self.__balance - amount"
   ]
  },
  {
   "cell_type": "code",
   "execution_count": 103,
   "id": "3a16ec63-466c-43bd-bf29-dad04e2e5fe3",
   "metadata": {},
   "outputs": [],
   "source": [
    "#Abstraction:\n",
    "from abc import ABC, abstractmethod\n",
    "\n",
    "class BankAccount(ABC):\n",
    "    def __init__(self, balance, acc_number):\n",
    "        self.__balance = balance\n",
    "        self.__acc_number = acc_number\n",
    "        \n",
    "    def deposit(self, amount):\n",
    "        self.__balance += amount\n",
    "        \n",
    "    def withdraw(self, amount):\n",
    "        self.__balance -= amount\n",
    "    \n",
    "    @abstractmethod\n",
    "    def get_balance(self):\n",
    "        pass\n",
    "\n",
    "class SavingsAccount(BankAccount):\n",
    "    def get_balance(self):\n",
    "        return self._BankAccount__balance\n"
   ]
  },
  {
   "cell_type": "markdown",
   "id": "bb6200e9-0a7b-46fd-b5ac-8678d97549b2",
   "metadata": {},
   "source": [
    "# Q3. What is abc module in python? Why is it used?"
   ]
  },
  {
   "cell_type": "markdown",
   "id": "697c2c6a-e813-4360-9de9-2df22ef984ad",
   "metadata": {},
   "source": [
    "#Ans:3\n",
    "\n",
    "# abc module: \n",
    "\n",
    "The 'abc' module in Python stands for \"Abstract Base Classes\". It provides a way to define abstract classes in Python, which are classes that cannot be instantiated directly and must be subclassed to be used.\n",
    "\n",
    "The 'abc' module provides a 'ABC' class that can be used as a base class for defining abstract classes. To define an abstract method, you can use the '@abstractmethod' decorator. Any subclass that does not implement an abstract method defined in the base class will also be considered an abstract class and cannot be instantiated directly.\n"
   ]
  },
  {
   "cell_type": "markdown",
   "id": "7c8c8875-9847-43d8-89c8-8a44d3a0f7cf",
   "metadata": {},
   "source": [
    "# use cases of abc module:\n",
    "\n",
    "The abc module in Python is used for defining and working with abstract base classes (ABCs). ABCs are classes that cannot be instantiated on their own but are meant to be subclassed by other classes that provide concrete implementations for their abstract methods.\n",
    "\n",
    "Here are some reasons why the abc module is commonly used in Python:\n",
    "\n",
    "Code reuse: Abstract base classes can define common interfaces for related classes, which can simplify code reuse and make it easier to write generic code that works with different classes that implement the same interface.\n",
    "\n",
    "Polymorphism: By defining abstract base classes, you can take advantage of polymorphism in your code. You can write code that operates on an abstract base class and is able to work with any concrete implementation of that class.\n",
    "\n",
    "Documentation: Abstract base classes can provide a clear and concise way to document the expected interface of a class or a module. By defining abstract methods and properties, you can clearly communicate what a class is supposed to do and what its requirements are.\n",
    "\n",
    "Overall, the abc module is a useful tool for designing flexible and maintainable code in Python, and it is widely used in many libraries and frameworks."
   ]
  },
  {
   "cell_type": "markdown",
   "id": "672865ba-b4e7-4607-8402-94c039d10534",
   "metadata": {},
   "source": [
    "# Q4. How can we achieve data abstraction?\n"
   ]
  },
  {
   "cell_type": "markdown",
   "id": "57166ce8-df23-41bd-94fc-3987c1d5dde1",
   "metadata": {},
   "source": [
    "#Ans: 4\n",
    "\n",
    "In Python, data abstraction can be achieved using abstract classes or interfaces provided by the abc module."
   ]
  },
  {
   "cell_type": "code",
   "execution_count": 104,
   "id": "fd75656d-7e7d-4d44-929c-154a1bc0cf0d",
   "metadata": {},
   "outputs": [],
   "source": [
    "#Here is the way to achieve data abstraction in Python:\n",
    "\n",
    "from abc import ABC, abstractmethod\n",
    "\n",
    "class AbstractDataStorage(ABC):\n",
    "    def read_data(self):\n",
    "        pass\n",
    "    \n",
    "    def write_data(self, data):\n",
    "        pass\n",
    "    \n",
    "class FileDataStorage(AbstractDataStorage):\n",
    "    def read_data(self):\n",
    "        with open('data.txt', 'r') as f:\n",
    "            return f.read()\n",
    "    \n",
    "    def write_data(self, data):\n",
    "        with open('data.txt', 'w') as f:\n",
    "            f.write(data)\n",
    "\n",
    "class DatabaseDataStorage(AbstractDataStorage):\n",
    "    def read_data(self):\n",
    "        # Read data from database\n",
    "        pass\n",
    "    \n",
    "    def write_data(self, data):\n",
    "        pass\n",
    "\n",
    "def process_data(storage):\n",
    "    data = storage.read_data()\n",
    "    storage.write_data(data)\n",
    "    \n",
    "file_storage = FileDataStorage()\n",
    "database_storage = DatabaseDataStorage()\n"
   ]
  },
  {
   "cell_type": "markdown",
   "id": "4b8fe5c2-1694-4083-afb9-60f5b75b465f",
   "metadata": {},
   "source": [
    "# Q5. Can we create an instance of an abstract class? Explain your answer."
   ]
  },
  {
   "cell_type": "markdown",
   "id": "23bc3588-989a-4aa0-b1d8-6a6b53892b0e",
   "metadata": {},
   "source": [
    "#Ans: 5\n",
    "\n",
    "No, we cannot create an instance of an abstract class in Python. An abstract class is a class that cannot be instantiated on its own, but rather is meant to be subclassed and its methods overridden by its child classes.\n",
    "\n",
    "In Python, abstract classes are defined using the abc module, and they are marked using the @abstractmethod decorator. Attempting to create an instance of an abstract class will result in a TypeError."
   ]
  },
  {
   "cell_type": "code",
   "execution_count": 105,
   "id": "06bc4ec8-abb6-4a23-a249-251c65960e28",
   "metadata": {},
   "outputs": [
    {
     "ename": "TypeError",
     "evalue": "Can't instantiate abstract class MyAbstractClass with abstract method my_abstract_method",
     "output_type": "error",
     "traceback": [
      "\u001b[0;31m---------------------------------------------------------------------------\u001b[0m",
      "\u001b[0;31mTypeError\u001b[0m                                 Traceback (most recent call last)",
      "Cell \u001b[0;32mIn[105], line 9\u001b[0m\n\u001b[1;32m      7\u001b[0m         \u001b[38;5;28;01mpass\u001b[39;00m\n\u001b[1;32m      8\u001b[0m \u001b[38;5;66;03m# Attempt to create an instance of the abstract class\u001b[39;00m\n\u001b[0;32m----> 9\u001b[0m my_instance \u001b[38;5;241m=\u001b[39m \u001b[43mMyAbstractClass\u001b[49m\u001b[43m(\u001b[49m\u001b[43m)\u001b[49m\n\u001b[1;32m     10\u001b[0m \u001b[38;5;66;03m# This will raise a TypeError\u001b[39;00m\n",
      "\u001b[0;31mTypeError\u001b[0m: Can't instantiate abstract class MyAbstractClass with abstract method my_abstract_method"
     ]
    }
   ],
   "source": [
    "from abc import ABC, abstractmethod\n",
    "\n",
    "class MyAbstractClass(ABC):\n",
    "    \n",
    "    @abstractmethod\n",
    "    def my_abstract_method(self):\n",
    "        pass\n",
    "# Attempt to create an instance of the abstract class\n",
    "my_instance = MyAbstractClass()\n",
    "# This will raise a TypeError"
   ]
  },
  {
   "cell_type": "code",
   "execution_count": 106,
   "id": "ae62ae85-094b-4b79-b5a3-f312320a2421",
   "metadata": {},
   "outputs": [
    {
     "name": "stdout",
     "output_type": "stream",
     "text": [
      "Hello, world!\n"
     ]
    }
   ],
   "source": [
    "class MyChildClass(MyAbstractClass):\n",
    "    \n",
    "    def my_abstract_method(self):\n",
    "        print(\"Hello, world!\")\n",
    "\n",
    "# Create an instance of the child class\n",
    "my_instance = MyChildClass()\n",
    "my_instance.my_abstract_method() "
   ]
  },
  {
   "cell_type": "code",
   "execution_count": null,
   "id": "42bc8143-3a16-489e-b32e-f8b988ec1dbf",
   "metadata": {},
   "outputs": [],
   "source": []
  }
 ],
 "metadata": {
  "kernelspec": {
   "display_name": "Python 3 (ipykernel)",
   "language": "python",
   "name": "python3"
  },
  "language_info": {
   "codemirror_mode": {
    "name": "ipython",
    "version": 3
   },
   "file_extension": ".py",
   "mimetype": "text/x-python",
   "name": "python",
   "nbconvert_exporter": "python",
   "pygments_lexer": "ipython3",
   "version": "3.10.8"
  }
 },
 "nbformat": 4,
 "nbformat_minor": 5
}
